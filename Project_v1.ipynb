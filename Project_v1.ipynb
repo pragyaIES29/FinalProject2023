{
 "cells": [
  {
   "attachments": {},
   "cell_type": "markdown",
   "metadata": {},
   "source": [
    "Summer 2023 - Final Project\n",
    "Pragya Acharya and Dounia Bellouk"
   ]
  },
  {
   "attachments": {},
   "cell_type": "markdown",
   "metadata": {},
   "source": [
    "Objective: \n",
    "To investigate the relationship between fertility rates and economic development across countries over time, using both regression and time series analysis."
   ]
  },
  {
   "attachments": {},
   "cell_type": "markdown",
   "metadata": {},
   "source": [
    "Data Collection:\n",
    "1. Use the World Bank API to collect fertility rate data by country for a specified time period (e.g. 1980-2020). [https://api.worldbank.org/v2/countries/all/indicators/SP.DYN.TFRT.IN]\n",
    "2. Collect data on economic indicators such as GDP per capita, inflation rate, and unemployment rate for the same time period and countries."
   ]
  },
  {
   "cell_type": "code",
   "execution_count": null,
   "metadata": {},
   "outputs": [],
   "source": [
    "import requests"
   ]
  }
 ],
 "metadata": {
  "kernelspec": {
   "display_name": "Python 3",
   "language": "python",
   "name": "python3"
  },
  "language_info": {
   "name": "python",
   "version": "3.10.11"
  },
  "orig_nbformat": 4
 },
 "nbformat": 4,
 "nbformat_minor": 2
}
